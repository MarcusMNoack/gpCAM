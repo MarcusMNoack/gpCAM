{
 "cells": [
  {
   "cell_type": "markdown",
   "id": "2377d373",
   "metadata": {},
   "source": [
    "# GPs on Non-Euclidean Input Spaces\n",
    "GPs on non-Euclidean input spaces have become more and more relevant in recent years, especially for Bayesian Optimization in chemistry. gpCAM can be used for that purpose as long as a correct kernel is defined. Of course, if mean and noise functions are also provided, they have to operate on these non-Euclidean spaces as well. \n",
    "\n",
    "In this example, we run a small GP on words."
   ]
  },
  {
   "cell_type": "code",
   "execution_count": null,
   "id": "61c3f3bd",
   "metadata": {},
   "outputs": [],
   "source": [
    "#install the newest version of gpcam\n",
    "#!pip install gpcam==8.1.10"
   ]
  },
  {
   "cell_type": "code",
   "execution_count": null,
   "id": "b5399565",
   "metadata": {},
   "outputs": [],
   "source": [
    "import numpy as np\n",
    "import matplotlib.pyplot as plt\n",
    "from gpcam import GPOptimizer\n",
    "from gpcam.gp_kernels import *\n",
    "%load_ext autoreload\n",
    "%autoreload 2"
   ]
  },
  {
   "cell_type": "code",
   "execution_count": null,
   "id": "b91e69d3",
   "metadata": {},
   "outputs": [],
   "source": [
    "#making the x_data a set will allow us to put any objects or structures into it.\n",
    "x_data = [('hello'),('world'),('this'),('is'),('gpcam')]\n",
    "y_data = np.array([2.,1.9,1.8,3.0,5.])\n",
    "\n",
    "\n",
    "def string_distance(string1, string2):\n",
    "    difference = abs(len(string1) - len(string2))\n",
    "    common_length = min(len(string1),len(string2))\n",
    "    string1 = string1[0:common_length]\n",
    "    string2 = string2[0:common_length]\n",
    "    \n",
    "    for i in range(len(string1)):\n",
    "        if string1[i] != string2[i]:\n",
    "            difference += 1.\n",
    "\n",
    "    return difference\n",
    "\n",
    "\n",
    "def kernel(x1,x2,hps):\n",
    "    d = np.zeros((len(x1),len(x2)))\n",
    "    count1 = 0\n",
    "    for string1 in x1:\n",
    "        count2 = 0\n",
    "        for string2 in x2:\n",
    "            d[count1,count2] = string_distance(string1,string2)\n",
    "            count2 += 1\n",
    "        count1 += 1\n",
    "    return hps[0] * matern_kernel_diff1(d,hps[1])\n",
    "    \n",
    "\n",
    "\n",
    "my_gp = GPOptimizer(x_data,y_data, init_hyperparameters=np.ones((2)),\n",
    "                    gp_kernel_function=kernel)\n",
    "bounds = np.array([[0.001,100.],[0.001,100]])\n",
    "my_gp.train(hyperparameter_bounds=bounds)\n",
    "\n",
    "print(\"hyperparameters: \", my_gp.hyperparameters)\n",
    "print(\"prediction : \",my_gp.posterior_mean(['full'])[\"f(x)\"])\n",
    "print(\"uncertainty: \",np.sqrt(my_gp.posterior_covariance(['full'])[\"v(x)\"]))"
   ]
  },
  {
   "cell_type": "code",
   "execution_count": null,
   "id": "a5644ec5",
   "metadata": {},
   "outputs": [],
   "source": [
    "##which one should I measure next?\n",
    "my_gp.ask([('who'),('could'),(\"it\"),(\"be\")], n = 4)"
   ]
  },
  {
   "cell_type": "markdown",
   "id": "2e86a64a-f6d6-4dfb-aab5-6324225cff2d",
   "metadata": {},
   "source": [
    "## Non-Euclidean Input Spaces with Multiple Tasks"
   ]
  },
  {
   "cell_type": "code",
   "execution_count": null,
   "id": "f78b2e6b-68be-47f0-99db-82382eeb7944",
   "metadata": {},
   "outputs": [],
   "source": [
    "import numpy as np\n",
    "import matplotlib.pyplot as plt\n",
    "from gpcam import fvGPOptimizer\n",
    "import plotly.graph_objects as go\n",
    "from itertools import product\n",
    "\n",
    "%load_ext autoreload\n",
    "%autoreload 2"
   ]
  },
  {
   "cell_type": "code",
   "execution_count": null,
   "id": "401a8d86-6205-4944-b9ed-e0397172b03f",
   "metadata": {},
   "outputs": [],
   "source": [
    "x_data = ['frf','ferfe','ferf','febhn']\n",
    "y_data = np.zeros((len(x_data),5))\n",
    "\n",
    "\n",
    "y_data[:,0] = np.random.rand(len(x_data))\n",
    "y_data[:,1] = np.random.rand(len(x_data))\n",
    "y_data[:,2] = np.random.rand(len(x_data))\n",
    "y_data[:,3] = np.random.rand(len(x_data))\n",
    "y_data[:,4] = np.random.rand(len(x_data))\n",
    "\n",
    "#it is good practice to check the format of the data\n",
    "print(len(x_data))\n",
    "print(y_data.shape)"
   ]
  },
  {
   "cell_type": "code",
   "execution_count": null,
   "id": "19bccdab-1444-4dc4-bb44-dd88340f541e",
   "metadata": {},
   "outputs": [],
   "source": [
    "def string_distance(string1, string2):\n",
    "    difference = abs(len(string1) - len(string2))\n",
    "    common_length = min(len(string1),len(string2))\n",
    "    string1 = string1[0:common_length]\n",
    "    string2 = string2[0:common_length]\n",
    "    \n",
    "    for i in range(len(string1)):\n",
    "        if string1[i] != string2[i]:\n",
    "            difference += 1.\n",
    "\n",
    "    return difference\n",
    "\n",
    "\n",
    "from fvgp.gp_kernels import matern_kernel_diff1\n",
    "def kernel(x1,x2,hps):\n",
    "    d = np.zeros((len(x1),len(x2)))\n",
    "    count1 = 0\n",
    "    for entry in x1:\n",
    "        string1 = entry[0]\n",
    "        count2 = 0\n",
    "        for entry2 in x2:\n",
    "            string2 = entry2[0]\n",
    "            d[count1,count2] = string_distance(string1,string2)\n",
    "            count2 += 1\n",
    "        count1 += 1\n",
    "    return hps[0] * matern_kernel_diff1(d,hps[1])\n",
    "    \n",
    "\n",
    "bounds = np.array([[0.001,100.],[0.001,100]])"
   ]
  },
  {
   "cell_type": "code",
   "execution_count": null,
   "id": "a8b3c342-6829-42f7-bf9f-90cf3d9bf069",
   "metadata": {},
   "outputs": [],
   "source": [
    "my_gp2 = fvGPOptimizer(x_data,y_data,init_hyperparameters=np.ones((2)),\n",
    "              gp_kernel_function=kernel\n",
    "             )\n",
    "print(\"Global Training in progress\")\n",
    "#use the next two lines if kernel `mkernel` is used\n",
    "#if not a default deep kernel will be used that will set initi hyperparameters and bounds\n",
    "#hps_bounds = np.array([[0.001,10000.],[1.,1000.]])\n",
    "#my_gp2.train(hyperparameter_bounds = hps_bounds, max_iter = 2)\n",
    "\n",
    "#use this next line if the default (deep) kernel is used (no bounds required)\n",
    "my_gp2.train(hyperparameter_bounds=bounds, max_iter = 20)"
   ]
  },
  {
   "cell_type": "code",
   "execution_count": null,
   "id": "b94b089a-332b-4c31-9535-2adb8ecd6f7a",
   "metadata": {},
   "outputs": [],
   "source": [
    "x_pred = [\"dwed\",\"dwe\"]\n",
    "my_gp2.posterior_mean(x_pred, x_out = np.array([0,1,2,3]))"
   ]
  },
  {
   "cell_type": "code",
   "execution_count": null,
   "id": "0ca94f3f-452f-4173-a37b-22fae5ed9f19",
   "metadata": {},
   "outputs": [],
   "source": [
    "my_gp2.ask([('who'),('could'),(\"it\"),(\"be\")], n = 4, x_out=np.array([0,1,2,3]))"
   ]
  },
  {
   "cell_type": "code",
   "execution_count": null,
   "id": "55db6f55-0249-49dd-873f-1f37f21f10bb",
   "metadata": {},
   "outputs": [],
   "source": []
  }
 ],
 "metadata": {
  "kernelspec": {
   "display_name": "Python 3 (ipykernel)",
   "language": "python",
   "name": "python3"
  },
  "language_info": {
   "codemirror_mode": {
    "name": "ipython",
    "version": 3
   },
   "file_extension": ".py",
   "mimetype": "text/x-python",
   "name": "python",
   "nbconvert_exporter": "python",
   "pygments_lexer": "ipython3",
   "version": "3.10.12"
  }
 },
 "nbformat": 4,
 "nbformat_minor": 5
}
