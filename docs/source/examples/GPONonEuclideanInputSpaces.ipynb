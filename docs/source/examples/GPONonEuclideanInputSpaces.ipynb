{
 "cells": [
  {
   "cell_type": "markdown",
   "id": "2377d373",
   "metadata": {},
   "source": [
    "# GPs on Non-Euclidean Input Spaces\n",
    "GPs on non-Euclidean input spaces have become more and more relevant in recent years, especially for Bayesian Optimization in chemistry. gpCAM can be used for that purpose as long as a correct kernel is defined. Of course, if mean and noise functions are also provided, they have to operate on these non-Euclidean spaces as well. \n",
    "\n",
    "In this example, we run a small GP on words."
   ]
  },
  {
   "cell_type": "code",
   "execution_count": 1,
   "id": "61c3f3bd",
   "metadata": {},
   "outputs": [],
   "source": [
    "#install the newest version of fvgp\n",
    "#!pip install gpcam==8.0.0"
   ]
  },
  {
   "cell_type": "code",
   "execution_count": 2,
   "id": "b5399565",
   "metadata": {},
   "outputs": [],
   "source": [
    "import numpy as np\n",
    "import matplotlib.pyplot as plt\n",
    "from gpcam import GPOptimizer\n",
    "from dask.distributed import Client\n",
    "%load_ext autoreload\n",
    "%autoreload 2"
   ]
  },
  {
   "cell_type": "code",
   "execution_count": 3,
   "id": "b91e69d3",
   "metadata": {},
   "outputs": [
    {
     "name": "stdout",
     "output_type": "stream",
     "text": [
      "differential_evolution step 1: f(x)= 10.1306\n",
      "differential_evolution step 2: f(x)= 8.85223\n",
      "differential_evolution step 3: f(x)= 8.85223\n",
      "differential_evolution step 4: f(x)= 8.85223\n",
      "differential_evolution step 5: f(x)= 8.72559\n",
      "differential_evolution step 6: f(x)= 8.72559\n",
      "differential_evolution step 7: f(x)= 8.10705\n",
      "differential_evolution step 8: f(x)= 8.10705\n",
      "differential_evolution step 9: f(x)= 8.10705\n",
      "differential_evolution step 10: f(x)= 8.10705\n",
      "differential_evolution step 11: f(x)= 8.10705\n",
      "differential_evolution step 12: f(x)= 8.10705\n",
      "differential_evolution step 13: f(x)= 8.066\n",
      "differential_evolution step 14: f(x)= 8.04529\n",
      "differential_evolution step 15: f(x)= 8.04529\n",
      "differential_evolution step 16: f(x)= 8.04529\n",
      "differential_evolution step 17: f(x)= 8.04529\n",
      "differential_evolution step 18: f(x)= 8.04529\n",
      "differential_evolution step 19: f(x)= 8.04529\n",
      "differential_evolution step 20: f(x)= 8.04497\n",
      "differential_evolution step 21: f(x)= 8.04489\n",
      "differential_evolution step 22: f(x)= 8.04489\n",
      "differential_evolution step 23: f(x)= 8.04489\n",
      "differential_evolution step 24: f(x)= 8.04489\n",
      "differential_evolution step 25: f(x)= 8.04489\n",
      "hyperparameters:  [1.43588541 0.11134392]\n",
      "prediction :  [2.74]\n",
      "uncertainty:  [1.19828436]\n"
     ]
    }
   ],
   "source": [
    "#making the x_data a set will allow us to put any objects or structures into it.\n",
    "x_data = {('hello'),('world'),('this'),('is'),('fvgp')}\n",
    "y_data = np.array([2.,1.9,1.8,3.0,5.])\n",
    "\n",
    "\n",
    "def string_distance(string1, string2):\n",
    "    difference = abs(len(string1) - len(string2))\n",
    "    common_length = min(len(string1),len(string2))\n",
    "    string1 = string1[0:common_length]\n",
    "    string2 = string2[0:common_length]\n",
    "    \n",
    "    for i in range(len(string1)):\n",
    "        if string1[i] != string2[i]:\n",
    "            difference += 1.\n",
    "\n",
    "    return difference\n",
    "\n",
    "\n",
    "def kernel(x1,x2,hps,obj):\n",
    "    d = np.zeros((len(x1),len(x2)))\n",
    "    count1 = 0\n",
    "    for string1 in x1:\n",
    "        count2 = 0\n",
    "        for string2 in x2:\n",
    "            d[count1,count2] = string_distance(string1,string2)\n",
    "            count2 += 1\n",
    "        count1 += 1\n",
    "    return hps[0] * obj.matern_kernel_diff1(d,hps[1])\n",
    "    \n",
    "\n",
    "bounds = np.array([[0.001,100.],[0.001,100]])\n",
    "my_gp = GPOptimizer(x_data,y_data, init_hyperparameters=np.ones((2)),\n",
    "                    gp_kernel_function=kernel,hyperparameter_bounds=bounds, info = True)\n",
    "my_gp.train()\n",
    "\n",
    "print(\"hyperparameters: \", my_gp.hyperparameters)\n",
    "print(\"prediction : \",my_gp.posterior_mean({'full'})[\"f(x)\"])\n",
    "print(\"uncertainty: \",np.sqrt(my_gp.posterior_covariance({'full'})[\"v(x)\"]))"
   ]
  },
  {
   "cell_type": "code",
   "execution_count": 4,
   "id": "a5644ec5",
   "metadata": {},
   "outputs": [
    {
     "data": {
      "text/plain": [
       "{'x': array([['me'],\n",
       "        ['it'],\n",
       "        ['is'],\n",
       "        ['world']], dtype='<U5'),\n",
       " 'f(x)': array([1.43588541, 1.43588541, 0.02688694, 0.02688694]),\n",
       " 'opt_obj': None}"
      ]
     },
     "execution_count": 4,
     "metadata": {},
     "output_type": "execute_result"
    }
   ],
   "source": [
    "##which one should I measure next?\n",
    "my_gp.ask(candidate_set={('hello'),('world'),(\"it\"),(\"is\"),(\"me\")}, n = 4)"
   ]
  },
  {
   "cell_type": "code",
   "execution_count": null,
   "id": "94712a52",
   "metadata": {},
   "outputs": [],
   "source": []
  }
 ],
 "metadata": {
  "kernelspec": {
   "display_name": "Python 3 (ipykernel)",
   "language": "python",
   "name": "python3"
  },
  "language_info": {
   "codemirror_mode": {
    "name": "ipython",
    "version": 3
   },
   "file_extension": ".py",
   "mimetype": "text/x-python",
   "name": "python",
   "nbconvert_exporter": "python",
   "pygments_lexer": "ipython3",
   "version": "3.10.12"
  }
 },
 "nbformat": 4,
 "nbformat_minor": 5
}
