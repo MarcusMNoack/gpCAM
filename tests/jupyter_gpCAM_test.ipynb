{
 "cells": [
  {
   "cell_type": "markdown",
   "id": "becoming-tackle",
   "metadata": {},
   "source": [
    "# Getting some data"
   ]
  },
  {
   "cell_type": "code",
   "execution_count": 14,
   "id": "plain-document",
   "metadata": {},
   "outputs": [
    {
     "name": "stdout",
     "output_type": "stream",
     "text": [
      "CAUTION: you have not provided data variances,\n",
      "they will set to be 1 percent of the the data values!\n",
      "Async GP training started with  100  data points\n",
      "HGDL optimization submitted for asynchronous training\n",
      "bounds: [[1.e-03 1.e+09]\n",
      " [1.e-03 1.e+02]\n",
      " [1.e-03 1.e+02]]\n",
      "starting with random points because\n",
      "'GPOptimizer' object has no attribute 'opt'\n",
      "This is nothing to worry about, especially in the first iteration\n",
      "CAUTION: you have not provided data variances, they will set to be 1 percent of the data values!\n",
      "GP training started with  200  data points\n",
      "Hyper-parameter tuning in progress. Old hyper-parameters:  [1. 1. 1.]  with old log likelihood:  1753.6074002329556\n",
      "method:  global\n",
      "I am performing a global differential evolution algorithm to find the optimal hyperparameters.\n",
      "maximum number of iterations:  10\n",
      "termination tolerance:  1e-06\n",
      "bounds:  [[1.e-03 1.e+09]\n",
      " [1.e-03 1.e+02]\n",
      " [1.e-03 1.e+02]]\n",
      "differential_evolution step 1: f(x)= 2176.35\n",
      "differential_evolution step 2: f(x)= 2176.35\n",
      "differential_evolution step 3: f(x)= 2176.35\n",
      "differential_evolution step 4: f(x)= 2176.35\n",
      "differential_evolution step 5: f(x)= 2176.35\n",
      "differential_evolution step 6: f(x)= 2176.35\n",
      "differential_evolution step 7: f(x)= 2176.35\n",
      "differential_evolution step 8: f(x)= 2176.35\n",
      "differential_evolution step 9: f(x)= 2176.35\n",
      "differential_evolution step 10: f(x)= 2118.22\n",
      "I found hyper-parameters  [7.85412123e+04 5.98130278e+01 4.11323336e+01]  with likelihood  2118.2206778470013  via global optimization\n",
      "Optimization returned smaller log likelihood; resetting to old hyperparameters.\n",
      "New hyper-parameters:  [1. 1. 1.] with log likelihood:  1753.6074002329556\n"
     ]
    },
    {
     "data": {
      "text/plain": [
       "array([1., 1., 1.])"
      ]
     },
     "execution_count": 14,
     "metadata": {},
     "output_type": "execute_result"
    }
   ],
   "source": [
    "import numpy as np\n",
    "from gpcam.gp_optimizer import GPOptimizer\n",
    "from gpcam.fvgp_optimizer import fvGPOptimizer\n",
    "import matplotlib.pyplot as plt\n",
    "\n",
    "\n",
    "dim = 2\n",
    "tasks = 2\n",
    "x = np.random.rand(100,dim)\n",
    "y = np.empty((len(x),tasks))\n",
    "for i in range(tasks): y[:,i] = np.sin(x[:,0]) + np.sin(x[:,1]) + float(i) #vreating a few functions as tasks\n",
    "index_set_bounds = np.array([[0.,1.],[0.,1.]])  ###make sure you have anouth bounds given your dim\n",
    "hyperparameter_bounds = np.array([[0.001,1e9],[0.001,100],[0.001,100]]) ###give enough bounds \n",
    "                                                                        ###for your number of the hyperparameters\n",
    "hps_guess = np.ones((3)) ###give an inital guess for your hyperparameters\n",
    "###################################################################################\n",
    "gp   =   GPOptimizer(dim,index_set_bounds) ###for single task\n",
    "gp.tell(x,y[:,0])\n",
    "gp.init_gp(hps_guess)\n",
    "gp.train_gp_async(hyperparameter_bounds,likelihood_optimization_max_iter = 10)\n",
    "##\n",
    "fvgp = fvGPOptimizer(dim,1,2,index_set_bounds) ###for multiple tasks\n",
    "fvgp.tell(x,y)\n",
    "fvgp.init_fvgp(hps_guess)\n",
    "fvgp.train_gp(hyperparameter_bounds,likelihood_optimization_max_iter = 10)"
   ]
  },
  {
   "cell_type": "code",
   "execution_count": null,
   "id": "musical-terrain",
   "metadata": {},
   "outputs": [],
   "source": []
  }
 ],
 "metadata": {
  "kernelspec": {
   "display_name": "Python 3",
   "language": "python",
   "name": "python3"
  },
  "language_info": {
   "codemirror_mode": {
    "name": "ipython",
    "version": 3
   },
   "file_extension": ".py",
   "mimetype": "text/x-python",
   "name": "python",
   "nbconvert_exporter": "python",
   "pygments_lexer": "ipython3",
   "version": "3.8.5"
  }
 },
 "nbformat": 4,
 "nbformat_minor": 5
}
