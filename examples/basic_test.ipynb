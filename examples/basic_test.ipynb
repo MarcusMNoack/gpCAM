{
 "cells": [
  {
   "cell_type": "markdown",
   "id": "3a3a3cd5",
   "metadata": {},
   "source": [
    "# AutonomousExperimenter Basic"
   ]
  },
  {
   "cell_type": "code",
   "execution_count": null,
   "id": "50bf0a4d",
   "metadata": {},
   "outputs": [],
   "source": [
    "#!pip install gpcam==8.0.0"
   ]
  },
  {
   "cell_type": "code",
   "execution_count": null,
   "id": "19c93d98",
   "metadata": {
    "scrolled": false
   },
   "outputs": [],
   "source": [
    "from gpcam import AutonomousExperimenterGP\n",
    "import numpy as np\n",
    "\n",
    "def instrument(data):\n",
    "    for entry in data:\n",
    "        print(\"I want to know the y_data at: \", entry[\"x_data\"])\n",
    "        entry[\"y_data\"] = np.sin(np.linalg.norm(entry[\"x_data\"]))\n",
    "        print(\"I received \",entry[\"y_data\"])\n",
    "        print(\"\")\n",
    "    return data\n",
    "\n",
    "##set up your parameter space\n",
    "parameters = np.array([[3.0,45.8],\n",
    "                       [4.0,47.0]])\n",
    "\n",
    "##set up some hyperparameters, if you have no idea, set them to 1 and make the training bounds large\n",
    "init_hyperparameters = np.array([1,1,1])\n",
    "hyperparameter_bounds =  np.array([[0.01,100],[0.01,100.0],[0.01,100]])\n",
    "\n",
    "##let's initialize the autonomous experimenter ...\n",
    "my_ae = AutonomousExperimenterGP(parameters, init_hyperparameters,\n",
    "                                 hyperparameter_bounds,instrument_function = instrument,  \n",
    "                                 init_dataset_size=10, info=False)\n",
    "#...train...\n",
    "my_ae.train()\n",
    "\n",
    "#...and run. That's it. You successfully executed an autonomous experiment.\n",
    "my_ae.go(N = 100)"
   ]
  },
  {
   "cell_type": "code",
   "execution_count": null,
   "id": "448a8030",
   "metadata": {},
   "outputs": [],
   "source": []
  }
 ],
 "metadata": {
  "kernelspec": {
   "display_name": "Python 3 (ipykernel)",
   "language": "python",
   "name": "python3"
  },
  "language_info": {
   "codemirror_mode": {
    "name": "ipython",
    "version": 3
   },
   "file_extension": ".py",
   "mimetype": "text/x-python",
   "name": "python",
   "nbconvert_exporter": "python",
   "pygments_lexer": "ipython3",
   "version": "3.10.12"
  }
 },
 "nbformat": 4,
 "nbformat_minor": 5
}
