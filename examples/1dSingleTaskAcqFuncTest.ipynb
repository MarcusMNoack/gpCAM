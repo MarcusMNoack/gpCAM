{
 "cells": [
  {
   "cell_type": "markdown",
   "id": "798e6ef7",
   "metadata": {},
   "source": [
    "# gpOptimizer: Single-Task Acquisition Functions"
   ]
  },
  {
   "cell_type": "code",
   "execution_count": null,
   "id": "ed5bffd4",
   "metadata": {},
   "outputs": [],
   "source": [
    "#!pip install gpcam==8.1.0"
   ]
  },
  {
   "cell_type": "markdown",
   "id": "7d1fc374",
   "metadata": {},
   "source": [
    "## Setup"
   ]
  },
  {
   "cell_type": "code",
   "execution_count": null,
   "id": "f84c291f",
   "metadata": {},
   "outputs": [],
   "source": [
    "import numpy as np\n",
    "import matplotlib.pyplot as plt\n",
    "from gpcam import GPOptimizer\n",
    "import time\n",
    "from loguru import logger\n",
    "\n",
    "%load_ext autoreload\n",
    "%autoreload 2\n"
   ]
  },
  {
   "cell_type": "code",
   "execution_count": null,
   "id": "7ad5ee9d",
   "metadata": {},
   "outputs": [],
   "source": [
    "from itertools import product\n",
    "x_pred1D = np.linspace(0,1,1000).reshape(-1,1)"
   ]
  },
  {
   "cell_type": "markdown",
   "id": "61faf8f5",
   "metadata": {},
   "source": [
    "## Data Preparation"
   ]
  },
  {
   "cell_type": "code",
   "execution_count": null,
   "id": "124ffd7f",
   "metadata": {},
   "outputs": [],
   "source": [
    "x = np.linspace(0,600,1000)\n",
    "def f1(x):\n",
    "    return np.sin(5. * x) + np.cos(10. * x) + (2.* (x-0.4)**2) * np.cos(100. * x)\n",
    " \n",
    "x_data = np.random.rand(50).reshape(-1,1) \n",
    "y_data = f1(x_data[:,0]) + (np.random.rand(len(x_data))-0.5) * 0.5\n",
    "\n",
    "plt.figure(figsize = (15,5))\n",
    "plt.xticks([0.,0.5,1.0])\n",
    "plt.yticks([-2,-1,0.,1])\n",
    "plt.xticks(fontsize=20)\n",
    "plt.yticks(fontsize=20)\n",
    "plt.plot(x_pred1D,f1(x_pred1D), color = 'orange', linewidth = 4)\n",
    "plt.scatter(x_data[:,0],y_data, color = 'black')"
   ]
  },
  {
   "cell_type": "markdown",
   "id": "84782d2a",
   "metadata": {},
   "source": [
    "## Customizing the Gaussian Process"
   ]
  },
  {
   "cell_type": "code",
   "execution_count": null,
   "id": "20aa5c90",
   "metadata": {},
   "outputs": [],
   "source": [
    "def my_noise(x,hps,obj):\n",
    "    #This is a simple noise function but can be made arbitrarily complex using many hyperparameters.\n",
    "    #The noise function always has to return a matrix, because the noise can have covariances.\n",
    "    return np.diag(np.zeros((len(x))) + hps[2])\n",
    "\n",
    "#stationary\n",
    "from gpcam.gp_kernels import *\n",
    "def skernel(x1,x2,hps,obj):\n",
    "    #The kernel follows the mathematical definition of a kernel. This\n",
    "    #means there is no limit to the variety of kernels you can define.\n",
    "    d = get_distance_matrix(x1,x2)\n",
    "    return hps[0] * matern_kernel_diff1(d,hps[1])\n",
    "\n",
    "\n",
    "def meanf(x, hps, obj):\n",
    "    #This is a simple mean function but it can be arbitrarily complex using many hyperparameters.\n",
    "    return np.sin(hps[3] * x[:,0])\n",
    "#it is a good idea to plot the prior mean function to make sure we did not mess up\n",
    "plt.figure(figsize = (15,5))\n",
    "plt.plot(x_pred1D,meanf(x_pred1D, np.array([1.,1.,5.0,2.]), None), color = 'orange', label = 'task1')"
   ]
  },
  {
   "cell_type": "markdown",
   "id": "9b838019",
   "metadata": {},
   "source": [
    "## Initialization and Different Training Options"
   ]
  },
  {
   "cell_type": "code",
   "execution_count": null,
   "id": "8cd4cfed",
   "metadata": {},
   "outputs": [],
   "source": [
    "\n",
    "\n",
    "my_gpo = GPOptimizer(x_data,y_data,\n",
    "            init_hyperparameters = np.ones((4))/10.,  # We need enough of those for kernel, noise, and prior mean functions \n",
    "            compute_device='cpu', \n",
    "            gp_kernel_function=skernel, \n",
    "            gp_kernel_function_grad=None, \n",
    "            gp_mean_function=meanf, \n",
    "            gp_mean_function_grad=None,\n",
    "            gp_noise_function=my_noise,\n",
    "            gp2Scale = False,\n",
    "            calc_inv=False, \n",
    "            ram_economy=False, \n",
    "            args={'a': 1.5, 'b':2.},\n",
    "            )\n",
    "\n",
    "hps_bounds = np.array([[0.01,10.], #signal variance for the kernel\n",
    "                       [0.01,10.], #length scale for the kernel\n",
    "                       [0.001,0.1],  #noise\n",
    "                       [0.001,1.]  #mean\n",
    "                      ])\n",
    "my_gpo.tell(x_data, y_data, append=False)\n",
    "my_gpo.tell(x_data, y_data, append=True)\n",
    "my_gpo.tell(x_data, y_data)\n",
    "print(\"Standard Training\")\n",
    "my_gpo.train(hyperparameter_bounds=hps_bounds)\n",
    "print(\"Global Training\")\n",
    "my_gpo.train(hyperparameter_bounds=hps_bounds, method='global')\n",
    "print(\"hps: \", my_gpo.get_hyperparameters())\n",
    "print(\"Local Training\")\n",
    "my_gpo.train(hyperparameter_bounds=hps_bounds, method='local')\n",
    "print(my_gpo.get_hyperparameters())\n",
    "print(\"MCMC Training\")\n",
    "my_gpo.train(hyperparameter_bounds=hps_bounds, method='mcmc', max_iter=1000)\n",
    "print(\"HGDL Training\")\n",
    "my_gpo.train(hyperparameter_bounds=hps_bounds, method='hgdl', max_iter=10)\n"
   ]
  },
  {
   "cell_type": "markdown",
   "id": "2484096c",
   "metadata": {},
   "source": [
    "## Asynchronous Training\n",
    "Train asynchronously on a remote server or locally. \n",
    "You can also start a bunch of different trainings on different computers.\n",
    "This training will continue without any signs of life until you call 'my_gp1.stop_training(opt_obj)'"
   ]
  },
  {
   "cell_type": "code",
   "execution_count": null,
   "id": "68482cff",
   "metadata": {},
   "outputs": [],
   "source": [
    "opt_obj = my_gpo.train_async(hyperparameter_bounds=hps_bounds)\n",
    "for i in range(10):\n",
    "    my_gpo.update_hyperparameters(opt_obj)\n",
    "    time.sleep(2)\n",
    "    print(my_gpo.hyperparameters)\n",
    "    print(\"\")\n",
    "\n",
    "my_gpo.stop_training(opt_obj)"
   ]
  },
  {
   "cell_type": "markdown",
   "id": "492b807d",
   "metadata": {},
   "source": [
    "## Calculating on Vizualizing the Results"
   ]
  },
  {
   "cell_type": "code",
   "execution_count": null,
   "id": "0922be9e",
   "metadata": {},
   "outputs": [],
   "source": [
    "#let's make a prediction\n",
    "x_pred = np.linspace(0,1,1000)\n",
    "\n",
    "mean1 = my_gpo.posterior_mean(x_pred.reshape(-1,1))[\"f(x)\"]\n",
    "var1 =  my_gpo.posterior_covariance(x_pred.reshape(-1,1), variance_only=False, add_noise=True)[\"v(x)\"]\n",
    "plt.figure(figsize = (16,10))\n",
    "plt.plot(x_pred,mean1, label = \"posterior mean\", linewidth = 4)\n",
    "plt.plot(x_pred1D,f1(x_pred1D), label = \"latent function\", linewidth = 4)\n",
    "plt.fill_between(x_pred, mean1 - 3. * np.sqrt(var1), mean1 + 3. * np.sqrt(var1), alpha = 0.5, color = \"grey\", label = \"var\")\n",
    "plt.scatter(x_data,y_data, color = 'black')\n",
    "\n",
    "\n",
    "##looking at some validation metrics\n",
    "print(my_gpo.rmse(x_pred1D,f1(x_pred1D)))\n",
    "print(my_gpo.crps(x_pred1D,f1(x_pred1D)))"
   ]
  },
  {
   "cell_type": "code",
   "execution_count": null,
   "id": "1d66157f",
   "metadata": {},
   "outputs": [],
   "source": [
    "#available acquisition function:\n",
    "acquisition_functions = [\"variance\",\"relative information entropy\",\"relative information entropy set\",\n",
    "                        \"ucb\",\"lcb\",\"maximum\",\"minimum\",\"gradient\",\"expected improvement\",\n",
    "                         \"probability of improvement\", \"target probability\", \"total correlation\"]"
   ]
  },
  {
   "cell_type": "code",
   "execution_count": null,
   "id": "1a28fb3d",
   "metadata": {},
   "outputs": [],
   "source": [
    "plt.figure(figsize=(16,10))\n",
    "for acq_func in acquisition_functions:\n",
    "    print(\"Acquisition function \",acq_func)\n",
    "    res = my_gpo.evaluate_acquisition_function(x_pred, acquisition_function=acq_func)\n",
    "    print(\" creates an output of shape\",res.shape)\n",
    "    if len(res)==len(x_pred):\n",
    "        res = res - np.min(res)\n",
    "        res = res/np.max(res)\n",
    "        plt.plot(x_pred,res, label = acq_func, linewidth = 2)\n",
    "    else: print(\"Some acquisition function return a scalar score for the entirety of points. Here: \", acq_func)\n",
    "plt.legend()\n",
    "plt.show()\n"
   ]
  },
  {
   "cell_type": "markdown",
   "id": "9791db18",
   "metadata": {},
   "source": [
    "## ask()ing for Optimal Evaluations\n",
    "with several optimization methods and acquisition functions"
   ]
  },
  {
   "cell_type": "code",
   "execution_count": null,
   "id": "e7c443d8",
   "metadata": {
    "scrolled": true
   },
   "outputs": [],
   "source": [
    "#let's test the asks:\n",
    "bounds = np.array([[0.0,1.0]])\n",
    "for acq_func in acquisition_functions:\n",
    "    for method in [\"global\",\"local\",\"hgdl\"]:\n",
    "        print(\"Acquisition function \", acq_func,\" and method \",method)\n",
    "        new_suggestion = my_gpo.ask(bounds, acquisition_function=acq_func, \n",
    "                                    method=method, max_iter = 2,)\n",
    "        print(\"led to new suggestion: \\n\", new_suggestion)\n",
    "        print(\"\")\n"
   ]
  },
  {
   "cell_type": "code",
   "execution_count": null,
   "id": "7dc034a6",
   "metadata": {},
   "outputs": [],
   "source": [
    "#here we can test other options of the ask() command\n",
    "bounds = np.array([[0.0,1.0]])\n",
    "new_suggestion = my_gpo.ask(bounds, acquisition_function=\"total_correlation\", method=\"global\",\n",
    "                            max_iter=10, n = 5, info = True)\n",
    "my_gpo.ask(bounds, n = 5, acquisition_function=\"variance\", vectorized=True, method = 'global')\n",
    "my_gpo.ask(bounds, n = 1, acquisition_function=\"relative information entropy\", vectorized=True, method = 'global')\n",
    "my_gpo.ask(bounds, n = 2, acquisition_function=\"expected improvement\", vectorized=True, method = 'global')\n",
    "my_gpo.ask(bounds, n = 1, acquisition_function=\"variance\", vectorized=True, method = 'global')\n",
    "my_gpo.ask(bounds, n = 3, acquisition_function=\"variance\", vectorized=True, method = 'hgdl')\n",
    "print(new_suggestion)"
   ]
  },
  {
   "cell_type": "code",
   "execution_count": null,
   "id": "bd3ca657-1f51-45ba-9564-a0eb566955d9",
   "metadata": {},
   "outputs": [],
   "source": [
    "#We can also ask for the best subset of a candidate set"
   ]
  },
  {
   "cell_type": "code",
   "execution_count": null,
   "id": "670f80bb-663d-4ed3-ad95-e0368052b34e",
   "metadata": {},
   "outputs": [],
   "source": [
    "my_gpo.ask([np.array([1.]),np.array([2.])], n = 3, acquisition_function=\"variance\", vectorized=True, method = 'hgdl')"
   ]
  },
  {
   "cell_type": "code",
   "execution_count": null,
   "id": "b9bf1c2c",
   "metadata": {},
   "outputs": [],
   "source": [
    "bounds = np.array([[0.0,1.0]])\n",
    "\n",
    "#You can even start an ask() search asynchronously and check back later what was found\n",
    "new_suggestion = my_gpo.ask(bounds, acquisition_function=acquisition_functions[0], method=\"hgdlAsync\")\n",
    "time.sleep(10)\n",
    "print(new_suggestion[\"opt_obj\"])\n",
    "#And we have to cancel that trainig and possibly kill the client\n",
    "new_suggestion[\"opt_obj\"].kill_client()"
   ]
  },
  {
   "cell_type": "code",
   "execution_count": null,
   "id": "37f2ef50-02f2-4981-a63f-224c834bc0f0",
   "metadata": {},
   "outputs": [],
   "source": []
  }
 ],
 "metadata": {
  "kernelspec": {
   "display_name": "Python 3 (ipykernel)",
   "language": "python",
   "name": "python3"
  },
  "language_info": {
   "codemirror_mode": {
    "name": "ipython",
    "version": 3
   },
   "file_extension": ".py",
   "mimetype": "text/x-python",
   "name": "python",
   "nbconvert_exporter": "python",
   "pygments_lexer": "ipython3",
   "version": "3.10.12"
  }
 },
 "nbformat": 4,
 "nbformat_minor": 5
}
