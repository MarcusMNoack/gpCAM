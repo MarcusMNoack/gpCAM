{
 "cells": [
  {
   "cell_type": "markdown",
   "id": "798e6ef7",
   "metadata": {},
   "source": [
    "# gpOptimizer: A Simple Black-Box Optimization"
   ]
  },
  {
   "cell_type": "markdown",
   "id": "3748355f",
   "metadata": {},
   "source": [
    "This is the new test for gpCAM version 8.1.3 and later."
   ]
  },
  {
   "cell_type": "code",
   "execution_count": null,
   "id": "ed5bffd4",
   "metadata": {},
   "outputs": [],
   "source": [
    "##first install the right version of gpCAM\n",
    "#!pip install gpcam==8.1.3"
   ]
  },
  {
   "cell_type": "markdown",
   "id": "7d1fc374",
   "metadata": {},
   "source": [
    "## Setup"
   ]
  },
  {
   "cell_type": "code",
   "execution_count": null,
   "id": "f84c291f",
   "metadata": {},
   "outputs": [],
   "source": [
    "import numpy as np\n",
    "import matplotlib.pyplot as plt\n",
    "from gpcam import GPOptimizer\n",
    "import time\n",
    "\n",
    "\n",
    "%load_ext autoreload\n",
    "%autoreload 2"
   ]
  },
  {
   "cell_type": "code",
   "execution_count": null,
   "id": "7ad5ee9d",
   "metadata": {},
   "outputs": [],
   "source": [
    "from itertools import product\n",
    "x_pred1D = np.linspace(0,1,1000).reshape(-1,1)"
   ]
  },
  {
   "cell_type": "markdown",
   "id": "61faf8f5",
   "metadata": {},
   "source": [
    "## Data Prep"
   ]
  },
  {
   "cell_type": "code",
   "execution_count": null,
   "id": "124ffd7f",
   "metadata": {},
   "outputs": [],
   "source": [
    "\n",
    "def f1(x):\n",
    "    if np.ndim(x) == 1: return (np.sin(5. * x) + np.cos(10. * x) + (2.* (x-0.4)**2) * np.cos(100. * x)), 0.01\n",
    "    else: return (np.sin(5. * x) + np.cos(10. * x) + (2.* (x-0.4)**2) * np.cos(100. * x))[:,0], np.zeros(len(x)) + 0.01\n",
    "\n",
    "plt.figure(figsize = (15,5))\n",
    "plt.xticks([0.,0.5,1.0])\n",
    "plt.yticks([-2,-1,0.,1])\n",
    "plt.xticks(fontsize=20)\n",
    "plt.yticks(fontsize=20)\n",
    "plt.plot(x_pred1D,f1(x_pred1D)[0], color = 'orange', linewidth = 4)"
   ]
  },
  {
   "cell_type": "markdown",
   "id": "9b838019",
   "metadata": {},
   "source": [
    "## Initialization and Optimization"
   ]
  },
  {
   "cell_type": "code",
   "execution_count": null,
   "id": "8cd4cfed",
   "metadata": {
    "scrolled": true
   },
   "outputs": [],
   "source": [
    "my_gp1 = GPOptimizer()\n",
    "def callb(x,y):\n",
    "    plt.scatter(x, y)\n",
    "    plt.scatter(x[-1], y[-1], color = 'red')\n",
    "    m = my_gp1.posterior_mean(x_pred1D)[\"f(x)\"]\n",
    "    s = np.sqrt(my_gp1.posterior_covariance(x_pred1D)[\"v(x)\"])\n",
    "    plt.plot(x_pred1D, m)\n",
    "    plt.plot(x_pred1D, s)\n",
    "    \n",
    "    plt.show()\n",
    "    \n",
    "result = my_gp1.optimize(func = f1, search_space =  np.array([[0,1]]), callback=callb)\n"
   ]
  },
  {
   "cell_type": "code",
   "execution_count": null,
   "id": "56efa57e-6be5-4d08-a9f6-de00668d2230",
   "metadata": {},
   "outputs": [],
   "source": []
  }
 ],
 "metadata": {
  "kernelspec": {
   "display_name": "gpcam_dev",
   "language": "python",
   "name": "gpcam_dev"
  },
  "language_info": {
   "codemirror_mode": {
    "name": "ipython",
    "version": 3
   },
   "file_extension": ".py",
   "mimetype": "text/x-python",
   "name": "python",
   "nbconvert_exporter": "python",
   "pygments_lexer": "ipython3",
   "version": "3.10.12"
  }
 },
 "nbformat": 4,
 "nbformat_minor": 5
}
