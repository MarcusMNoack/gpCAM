{
 "cells": [
  {
   "cell_type": "markdown",
   "id": "798e6ef7",
   "metadata": {},
   "source": [
    "# gpOptimizer.optimize: A Simple Black-Box Optimization"
   ]
  },
  {
   "cell_type": "code",
   "execution_count": null,
   "id": "ed5bffd4",
   "metadata": {},
   "outputs": [],
   "source": [
    "## First, install the latest version of gpCAM\n",
    "#!pip install gpcam==8.1.13"
   ]
  },
  {
   "cell_type": "markdown",
   "id": "7d1fc374",
   "metadata": {},
   "source": [
    "## Setup"
   ]
  },
  {
   "cell_type": "code",
   "execution_count": null,
   "id": "f84c291f",
   "metadata": {},
   "outputs": [],
   "source": [
    "import numpy as np\n",
    "import matplotlib.pyplot as plt\n",
    "from gpcam import GPOptimizer\n",
    "from gpcam import fvGPOptimizer\n",
    "import time\n",
    "\n",
    "\n",
    "%load_ext autoreload\n",
    "%autoreload 2"
   ]
  },
  {
   "cell_type": "code",
   "execution_count": null,
   "id": "7ad5ee9d",
   "metadata": {},
   "outputs": [],
   "source": [
    "from itertools import product\n",
    "x_pred1D = np.linspace(0,1,1000).reshape(-1,1)"
   ]
  },
  {
   "cell_type": "markdown",
   "id": "61faf8f5",
   "metadata": {},
   "source": [
    "## Data Prep"
   ]
  },
  {
   "cell_type": "code",
   "execution_count": null,
   "id": "124ffd7f",
   "metadata": {},
   "outputs": [],
   "source": [
    "\n",
    "def f1(x):\n",
    "    if np.ndim(x) == 1: return (np.sin(5. * x) + np.cos(10. * x) + (2.* (x-0.4)**2) * np.cos(100. * x)), 0.01\n",
    "    else: return (np.sin(5. * x[:,0]) + np.cos(10. * x[:,0]) + (2.* (x[:,0]-0.4)**2) * np.cos(100. * x[:,0])), np.zeros(len(x)) + 0.01\n",
    "\n",
    "def f2(x):\n",
    "    if np.ndim(x) == 1: \n",
    "        res = np.array([f1(x)[0], -f1(x)[0]/3.]).reshape(2), np.array([0.01,0.01])\n",
    "        return res \n",
    "    else: \n",
    "        res = np.column_stack([f1(x)[0], -f1(x)[0]/3.]).reshape(len(x),2),\\\n",
    "              np.array([np.zeros(len(x)) + 0.01, np.zeros(len(x)) + 0.01]).reshape(len(x),2)\n",
    "        return res\n",
    "\n",
    "plt.figure(figsize = (15,5))\n",
    "plt.xticks([0.,0.5,1.0])\n",
    "plt.yticks([-2,-1,0.,1])\n",
    "plt.xticks(fontsize=20)\n",
    "plt.yticks(fontsize=20)\n",
    "plt.plot(x_pred1D,f1(x_pred1D)[0], color = 'orange', linewidth = 4)\n",
    "plt.plot(x_pred1D,f2(x_pred1D)[0][:,1], color = 'green', linewidth = 4)"
   ]
  },
  {
   "cell_type": "markdown",
   "id": "9b838019",
   "metadata": {},
   "source": [
    "## Initialization and Optimization for a Scalar Valued Function"
   ]
  },
  {
   "cell_type": "code",
   "execution_count": null,
   "id": "8cd4cfed",
   "metadata": {},
   "outputs": [],
   "source": [
    "from IPython.display import clear_output\n",
    "my_gp1 = GPOptimizer()\n",
    "def callb(x,y):\n",
    "    clear_output(wait=True)\n",
    "    plt.scatter(x, y, color = 'black', label = \"data points\")\n",
    "    plt.scatter(x[-1], y[-1], color = 'red', label = \"last point\")\n",
    "    m = my_gp1.posterior_mean(x_pred1D)[\"f(x)\"]\n",
    "    s = np.sqrt(my_gp1.posterior_covariance(x_pred1D)[\"v(x)\"])\n",
    "    plt.plot(x_pred1D, m, label = \"post. mean\")\n",
    "    plt.plot(x_pred1D, -(m-3.*s), label =  \"acq func\")\n",
    "    plt.fill_between(x_pred1D.flatten(), m-3.*s, m+3.*s, label = \"uncertainty\", color = \"grey\", alpha = .5)\n",
    "    plt.xlim([0,1])\n",
    "    plt.ylim(-3,3)\n",
    "    plt.legend(loc = 'lower left')\n",
    "    plt.show()\n",
    "    \n",
    "result = my_gp1.optimize(func = f1, search_space =  np.array([[0,1]]), callback=callb)\n"
   ]
  },
  {
   "cell_type": "markdown",
   "id": "1b73c7d5-d4a1-4434-bf6d-d1f867aa0b3b",
   "metadata": {},
   "source": [
    "## Initialization and Optimization for a Vector Valued Function"
   ]
  },
  {
   "cell_type": "code",
   "execution_count": null,
   "id": "969e818d-a847-4950-9ab2-321d336e91fb",
   "metadata": {},
   "outputs": [],
   "source": [
    "from IPython.display import clear_output\n",
    "my_gp2 = fvGPOptimizer()\n",
    "def callb(x,y):\n",
    "    task_ind0 = np.where(x[:,1]==0.)[0]\n",
    "    task_ind1 = np.where(x[:,1]==1.)[0]\n",
    "    clear_output(wait=True)\n",
    "    y1 = y[task_ind0]\n",
    "    y2 = y[task_ind1]\n",
    "    x = x[task_ind0,0:1]\n",
    "    plt.scatter(x[:,0], y1, color = 'grey', label = \"data points t1\")\n",
    "    plt.scatter(x[:,0], y2, color = 'black', label = \"data points t2\")\n",
    "    plt.scatter(x[-1,0], y1[-1], color = 'red', label = \"last point\")\n",
    "    plt.scatter(x[-1,0], y2[-1], color = 'red', label = \"last point\")\n",
    "    m = my_gp2.posterior_mean(x_pred1D, x_out = np.array([0,1]))[\"f(x)\"]\n",
    "    s = np.sqrt(my_gp2.posterior_covariance(x_pred1D, x_out = np.array([0,1]))[\"v(x)\"])\n",
    "    m1 = m[:,0]\n",
    "    m2 = m[:,1]\n",
    "    s1 = s[:,0]\n",
    "    s2 = s[:,1]\n",
    "    plt.plot(x_pred1D, m1, label = \"post. mean 1\")\n",
    "    plt.plot(x_pred1D, m2, label = \"post. mean 2\")\n",
    "    #plt.plot(x_pred1D, -(m-3.*s), label =  \"acq func\")\n",
    "    plt.fill_between(x_pred1D.flatten(), m1-3.*s1, m1+3.*s1, label = \"uncertainty1\", color = \"grey\", alpha = .5)\n",
    "    plt.fill_between(x_pred1D.flatten(), m2-3.*s2, m2+3.*s2, label = \"uncertainty2\", color = \"grey\", alpha = .5)\n",
    "    plt.xlim([0,1])\n",
    "    plt.ylim(-3,3)\n",
    "    plt.legend(loc = 'lower left')\n",
    "    plt.show()\n",
    "    \n",
    "result = my_gp2.optimize(func = f2, x_out = np.array([0,1]), search_space =  np.array([[0,1]]), callback = callb)"
   ]
  },
  {
   "cell_type": "code",
   "execution_count": null,
   "id": "4115e5df-3459-4a21-8b87-d171f86f1213",
   "metadata": {},
   "outputs": [],
   "source": []
  },
  {
   "cell_type": "code",
   "execution_count": null,
   "id": "7fa18af3-53ef-4775-8ff9-9c83026d7b46",
   "metadata": {},
   "outputs": [],
   "source": []
  }
 ],
 "metadata": {
  "kernelspec": {
   "display_name": "Python 3 (ipykernel)",
   "language": "python",
   "name": "python3"
  },
  "language_info": {
   "codemirror_mode": {
    "name": "ipython",
    "version": 3
   },
   "file_extension": ".py",
   "mimetype": "text/x-python",
   "name": "python",
   "nbconvert_exporter": "python",
   "pygments_lexer": "ipython3",
   "version": "3.10.12"
  }
 },
 "nbformat": 4,
 "nbformat_minor": 5
}
