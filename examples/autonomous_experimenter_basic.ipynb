{
 "cells": [
  {
   "cell_type": "markdown",
   "id": "3a3a3cd5",
   "metadata": {},
   "source": [
    "# AutonomousExperimenter Basic"
   ]
  },
  {
   "cell_type": "code",
   "execution_count": null,
   "id": "50bf0a4d",
   "metadata": {},
   "outputs": [],
   "source": [
    "#!pip install gpcam==8.1.0"
   ]
  },
  {
   "cell_type": "code",
   "execution_count": null,
   "id": "8dc75590-230e-4f76-8808-c64c208c686b",
   "metadata": {},
   "outputs": [],
   "source": [
    "from gpcam import AutonomousExperimenterGP\n",
    "import numpy as np\n",
    "import time\n",
    "import sys"
   ]
  },
  {
   "cell_type": "code",
   "execution_count": null,
   "id": "0a305256-b3ad-4c15-95af-a596496e6aeb",
   "metadata": {},
   "outputs": [],
   "source": [
    "#define an instrument function, this is how the autonomous experimenter interacts with the world.\n",
    "def instrument(data):\n",
    "    for entry in data:\n",
    "        print(\"I want to know the y_data at: \", entry[\"x_data\"])\n",
    "        ##always fill in y_data and noise variances\n",
    "        entry[\"y_data\"] = 0.001 * np.linalg.norm(entry[\"x_data\"])**2\n",
    "        entry[\"noise variance\"] = 0.01\n",
    "        print(\"I received \",entry[\"y_data\"])\n",
    "        print(\"\")\n",
    "    return data"
   ]
  },
  {
   "cell_type": "code",
   "execution_count": null,
   "id": "844aa0b1-1775-48fa-ab3d-8e34291f930f",
   "metadata": {},
   "outputs": [],
   "source": [
    "##set up your parameter space\n",
    "parameters = np.array([[3.0,45.8],\n",
    "                       [4.0,47.0]])\n",
    "\n",
    "##set up some hyperparameters, if you have no idea, set them to 1 and make the training bounds large\n",
    "init_hyperparameters = np.array([ 1.,1.,1.])\n",
    "hyperparameter_bounds =  np.array([[0.01,100],[0.01,1000.0],[0.01,1000]])"
   ]
  },
  {
   "cell_type": "code",
   "execution_count": null,
   "id": "19c93d98",
   "metadata": {},
   "outputs": [],
   "source": [
    "##let's initialize the autonomous experimenter ...\n",
    "\n",
    "#...train...\n",
    "my_ae = AutonomousExperimenterGP(parameters, init_hyperparameters, \n",
    "                                 hyperparameter_bounds,instrument_function = instrument,online=True, calc_inv = True, \n",
    "                                 init_dataset_size=20, info=False)\n",
    "#...train...\n",
    "my_ae.train(max_iter=2)\n",
    "\n",
    "\n",
    "#...and run. That's it. You successfully executed an autonomous experiment.\n",
    "st = time.time()\n",
    "my_ae.go(N = 100, retrain_globally_at=[], retrain_locally_at=[])\n",
    "print(\"Exec time: \", time.time() - st)"
   ]
  },
  {
   "cell_type": "code",
   "execution_count": null,
   "id": "a08a6ca8-5745-4925-9763-12d1fb4de451",
   "metadata": {},
   "outputs": [],
   "source": []
  }
 ],
 "metadata": {
  "kernelspec": {
   "display_name": "Python 3 (ipykernel)",
   "language": "python",
   "name": "python3"
  },
  "language_info": {
   "codemirror_mode": {
    "name": "ipython",
    "version": 3
   },
   "file_extension": ".py",
   "mimetype": "text/x-python",
   "name": "python",
   "nbconvert_exporter": "python",
   "pygments_lexer": "ipython3",
   "version": "3.10.12"
  }
 },
 "nbformat": 4,
 "nbformat_minor": 5
}
